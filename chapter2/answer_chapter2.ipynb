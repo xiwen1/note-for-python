{
 "cells": [
  {
   "cell_type": "code",
   "execution_count": null,
   "id": "c1dc2b83",
   "metadata": {},
   "outputs": [],
   "source": [
    "import numpy as np\n",
    "\n",
    "A = np.array(range(1, 13)).reshape(3, -1)\n",
    "A"
   ]
  },
  {
   "cell_type": "code",
   "execution_count": null,
   "id": "bcc2841a",
   "metadata": {},
   "outputs": [],
   "source": [
    "A = np.arange(1, 13, 1).reshape(3, -1)\n",
    "A"
   ]
  },
  {
   "cell_type": "markdown",
   "id": "446fa3e7",
   "metadata": {},
   "source": [
    "2.2"
   ]
  },
  {
   "cell_type": "code",
   "execution_count": null,
   "id": "42ffcfa7",
   "metadata": {},
   "outputs": [],
   "source": [
    "V = np.vander(np.array(range(1, 5)), increasing=True)\n",
    "V"
   ]
  },
  {
   "cell_type": "code",
   "execution_count": null,
   "id": "09e7b4db",
   "metadata": {},
   "outputs": [],
   "source": [
    "v = np.array([1, -1, 1]).reshape(-1, 1)\n",
    "P = v @ v.T / (v.T @ v)\n",
    "Q = 1 - P \n",
    "Q"
   ]
  },
  {
   "cell_type": "code",
   "execution_count": null,
   "id": "f70249e4",
   "metadata": {},
   "outputs": [],
   "source": [
    "rand = np.random.randint(1, 101, size=1000)\n",
    "cnt = np.bincount(rand)\n",
    "for i, count in  enumerate(cnt):\n",
    "    if count > 0:\n",
    "        print(f'{i}: {count}')\n",
    "\n"
   ]
  },
  {
   "cell_type": "code",
   "execution_count": null,
   "id": "9675d379",
   "metadata": {},
   "outputs": [],
   "source": [
    "arr = np.random.randint(1, 100, size=20)\n",
    "arr[:10].sort()\n",
    "arr[10:][::-1].sort()\n",
    "arr"
   ]
  },
  {
   "cell_type": "code",
   "execution_count": null,
   "id": "2eb7a4d9",
   "metadata": {},
   "outputs": [],
   "source": [
    "# star\n",
    "m = np.array([9, 80, 205, 40, 90, -60, 96, 1, 210, -3, 101, 89]).reshape(3, -1)\n",
    "\n",
    "row_max = m.argmax(axis=1)\n",
    "col_min = m.argmin(axis=0)\n",
    "# saddle_points = np.where(row_max == col_min)\n",
    "saddle_points = []\n",
    "for i, row in enumerate(row_max):\n",
    "    if(col_min[row] == i):\n",
    "        saddle_points.append((i, row))\n",
    "# np.argmin(m, axis=0)\n",
    "print(saddle_points)"
   ]
  },
  {
   "cell_type": "code",
   "execution_count": null,
   "id": "241434d8",
   "metadata": {},
   "outputs": [],
   "source": [
    "# star\n",
    "m = np.array([9, 80, 205, 40, 90, -60, 96, 1, 210, -3, 101, 89]).reshape(3, -1)\n",
    "\n",
    "row_max = m.argmax(axis=1)\n",
    "col_min = m.argmin(axis=0)\n",
    "# saddle_points = np.where(row_max == col_min)\n",
    "saddle_points = []\n",
    "for i, row in enumerate(row_max):\n",
    "    if(col_min[row] == i):\n",
    "        saddle_points.append((i, row))\n",
    "# np.argmin(m, axis=0)\n",
    "print(saddle_points)"
   ]
  },
  {
   "cell_type": "code",
   "execution_count": null,
   "id": "14cc4e5d",
   "metadata": {
    "lines_to_next_cell": 2
   },
   "outputs": [],
   "source": [
    "import matplotlib.pyplot as plt\n",
    "import numpy as np\n",
    "\n",
    "x = np.arange(0, 10, 0.01)\n",
    "def get_y(k:int):\n",
    "    return k * x * x * np.sin(x) + 2 * k + np.cos(np.power(x, 3))\n",
    "\n",
    "plt.rc('font', family='SimHei')\n",
    "plt.xlabel('x')\n",
    "# plt.rcParams['font.family'] = ['SimHei']\n",
    "# plt.rc('mathtext', fontset='stix')\n",
    "\n",
    "# 解决负号显示异常的方法\n",
    "plt.rc('axes', unicode_minus=False)\n",
    "\n",
    "plt.rc('text', usetex=True)\n",
    "plt.ylabel('y')\n",
    "for i in range(1, 7):\n",
    "    plt.plot(x, get_y(i))"
   ]
  },
  {
   "cell_type": "code",
   "execution_count": null,
   "id": "5b20f9d4",
   "metadata": {},
   "outputs": [],
   "source": [
    "import matplotlib.pyplot as plt\n",
    "import numpy as np\n",
    "\n",
    "x = np.arange(0, 10, 0.01)\n",
    "def get_y(k:int):\n",
    "    return k * x * x * np.sin(x) + 2 * k + np.cos(np.power(x, 3))\n",
    "\n",
    "plt.rc('font', family='SimHei')\n",
    "\n",
    "# 解决负号显示异常的方法\n",
    "plt.rc('axes', unicode_minus=False)\n",
    "\n",
    "# plt.rc('text', usetex=True)\n",
    "# plt.ylabel('y')\n",
    "\n",
    "fig, axs = plt.subplots(2, 3, sharex=True, sharey=True)\n",
    "\n",
    "for i, ax in enumerate(axs.flatten()):  \n",
    "    ax.plot(x, get_y(i + 1), label=f'k = {i}')\n",
    "    ax.legend()\n",
    "\n",
    "axs[0, 0].set_ylabel('y')\n",
    "axs[1, 1].set_xlabel('x')\n",
    "plt.tight_layout()\n",
    "plt.show()"
   ]
  },
  {
   "cell_type": "code",
   "execution_count": null,
   "id": "f7cc79b2",
   "metadata": {},
   "outputs": [],
   "source": [
    "import matplotlib.pyplot as plt \n",
    "import numpy as np \n",
    "\n",
    "u = np.linspace(-10, 10, 1000)\n",
    "v = u.copy()\n",
    "u, v = np.meshgrid(u, v)\n",
    "\n",
    "x = np.cosh(u) * np.cos(v)\n",
    "y = np.cosh(u) * np.sin(v)\n",
    "z = np.sinh(u)\n",
    "\n",
    "fig = plt.figure()\n",
    "ax = fig.add_subplot(111, projection='3d')\n",
    "ax.plot_surface(x, y, z)\n",
    "ax.set_xlabel('x')\n",
    "ax.set_ylabel('y')\n",
    "ax.set_zlabel('z')\n",
    "\n"
   ]
  },
  {
   "cell_type": "code",
   "execution_count": null,
   "id": "d02326a8",
   "metadata": {
    "lines_to_next_cell": 2
   },
   "outputs": [],
   "source": [
    "import matplotlib.pyplot as plt \n",
    "import numpy as np \n",
    "\n",
    "\n"
   ]
  }
 ],
 "metadata": {
  "jupytext": {
   "cell_metadata_filter": "-all",
   "main_language": "python",
   "notebook_metadata_filter": "-all"
  }
 },
 "nbformat": 4,
 "nbformat_minor": 5
}
