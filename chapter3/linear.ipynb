{
 "cells": [
  {
   "cell_type": "code",
   "execution_count": 2,
   "metadata": {},
   "outputs": [],
   "source": [
    "import sympy as sp\n",
    "import numpy as np"
   ]
  },
  {
   "cell_type": "markdown",
   "metadata": {},
   "source": [
    "矩阵的运算"
   ]
  },
  {
   "cell_type": "code",
   "execution_count": 3,
   "metadata": {},
   "outputs": [
    {
     "name": "stdout",
     "output_type": "stream",
     "text": [
      "sqrt(14)\n",
      "3.74165738677394\n",
      "Matrix([[1, 2, 3]])\n",
      "32\n",
      "Matrix([[-3], [6], [-3]])\n"
     ]
    }
   ],
   "source": [
    "arr = np.array([1, 2, 3]).squeeze().T\n",
    "a = sp.Matrix(arr)\n",
    "b = sp.Matrix([[4], [5], [6]])\n",
    "print(a.norm())\n",
    "print(a.norm().evalf()) # 打印浮点数\n",
    "print(a.T)\n",
    "print(a.dot(b))\n",
    "print(a.cross(b))"
   ]
  },
  {
   "cell_type": "code",
   "execution_count": 24,
   "metadata": {},
   "outputs": [
    {
     "name": "stdout",
     "output_type": "stream",
     "text": [
      "0\n",
      "2\n",
      "Matrix([[1, 5, 9, 13], [2, 6, 10, 14], [3, 7, 11, 15], [4, 8, 12, 16]])\n",
      "Matrix([[-2/9, -2/3, -1/9, 4/9], [-3/5, 3/5, -1/5, 0], [1/45, -2/15, 32/45, -4/9], [29/45, 2/15, -17/45, 1/9]])\n",
      "Matrix([[90, 100, 110, 120], [202, 228, 254, 280], [314, 356, 398, 440], [426, 484, 542, 600]])\n",
      "Matrix([[1, 2, 3, 4], [5, 6, 7, 8], [9, 10, 11, 12], [13, 14, 15, 16]])\n",
      "Matrix([[1, 2, 3, 4, 1, 0, 0, 0], [5, 6, 7, 8, 0, 1, 0, 0], [9, 10, 11, 12, 0, 0, 1, 0], [13, 14, 15, 16, 0, 0, 0, 1]])\n",
      "Matrix([[1, 2, 3, 4], [5, 6, 7, 8], [9, 10, 11, 12], [13, 14, 15, 16], [1, 0, 0, 0], [0, 1, 0, 0], [0, 0, 1, 0], [0, 0, 0, 1]])\n",
      "Matrix([[1, 2, 3, 4], [5, 6, 7, 8], [9, 10, 11, 12]])\n"
     ]
    }
   ],
   "source": [
    "# 例3.27\n",
    "a = np.arange(1, 17).reshape(-1, 4)\n",
    "# 创建一个数组的新视图， 视图是指数组的另一种查看方式，它与原始数组共享相同的数据，但具有不同的维度，形状或者存储方式\n",
    "# 创建view需要指定dtype或者要求原arr具有dtype\n",
    "a = sp.Matrix(a)\n",
    "b = sp.Matrix(np.diag([1, 1, 1, 1]))\n",
    "print(a.det())\n",
    "print(a.rank())\n",
    "print(a.T)\n",
    "print((a + 1 * b).inv())\n",
    "# a + sp.diag(1, 1, 1, 1)\n",
    "print(a ** 2)\n",
    "print(a * b)\n",
    "print(a.row_join(b))\n",
    "print(a.col_join(b))\n",
    "a2 = a.copy()\n",
    "a2.row_del(3)\n",
    "print(a2)"
   ]
  },
  {
   "cell_type": "markdown",
   "metadata": {},
   "source": [
    "解线性方程组"
   ]
  },
  {
   "cell_type": "code",
   "execution_count": 29,
   "metadata": {},
   "outputs": [
    {
     "name": "stdout",
     "output_type": "stream",
     "text": [
      "3\n"
     ]
    },
    {
     "data": {
      "text/latex": [
       "$\\displaystyle \\left[\\begin{matrix}0\\\\-1\\\\1\\end{matrix}\\right]$"
      ],
      "text/plain": [
       "Matrix([\n",
       "[ 0],\n",
       "[-1],\n",
       "[ 1]])"
      ]
     },
     "execution_count": 29,
     "metadata": {},
     "output_type": "execute_result"
    }
   ],
   "source": [
    "a = sp.Matrix([[1, 2, 3], [4, 5, 6], [9, 8, 9]])\n",
    "b = sp.Matrix([1, 1, 1])\n",
    "print(a.rank())\n",
    "a.inv()*b # 解线性方程组"
   ]
  },
  {
   "cell_type": "markdown",
   "metadata": {},
   "source": [
    "求基础解系"
   ]
  },
  {
   "cell_type": "code",
   "execution_count": 31,
   "metadata": {},
   "outputs": [
    {
     "name": "stdout",
     "output_type": "stream",
     "text": [
      "零空间(基础解系为):\n"
     ]
    },
    {
     "data": {
      "text/plain": [
       "[Matrix([\n",
       " [-9/7],\n",
       " [ 1/7],\n",
       " [   1],\n",
       " [   0]]),\n",
       " Matrix([\n",
       " [ 1/2],\n",
       " [-1/2],\n",
       " [   0],\n",
       " [   1]])]"
      ]
     },
     "execution_count": 31,
     "metadata": {},
     "output_type": "execute_result"
    }
   ],
   "source": [
    "a = sp.Matrix([[1, -5, 2, -3], [5, 3, 6, -1], [2, 4, 2, 1]])\n",
    "print('零空间(基础解系为):')\n",
    "a.nullspace()"
   ]
  },
  {
   "cell_type": "markdown",
   "metadata": {},
   "source": [
    "求通解"
   ]
  },
  {
   "cell_type": "code",
   "execution_count": 33,
   "metadata": {},
   "outputs": [
    {
     "name": "stdout",
     "output_type": "stream",
     "text": [
      "增广矩阵的最简型为: (Matrix([\n",
      "[1, 0, -3/2, 0,  5/4],\n",
      "[0, 1, -3/2, 0, -1/4],\n",
      "[0, 0,    0, 1,    0]]), (0, 1, 3))\n"
     ]
    },
    {
     "data": {
      "text/latex": [
       "$\\displaystyle \\left[\\begin{matrix}1 & 1 & -3 & 1 & 1\\\\3 & -1 & -3 & 4 & 4\\\\1 & 5 & -9 & -8 & 0\\end{matrix}\\right]$"
      ],
      "text/plain": [
       "Matrix([\n",
       "[1,  1, -3,  1, 1],\n",
       "[3, -1, -3,  4, 4],\n",
       "[1,  5, -9, -8, 0]])"
      ]
     },
     "execution_count": 33,
     "metadata": {},
     "output_type": "execute_result"
    }
   ],
   "source": [
    "a = sp.Matrix([[1, 1, -3, 1], [3, -1, -3, 4], [1, 5, -9, -8]])\n",
    "b = sp.Matrix([1, 4, 0])\n",
    "c = a.row_join(b)\n",
    "print('增广矩阵的最简型为:', c.rref())\n"
   ]
  },
  {
   "cell_type": "markdown",
   "metadata": {},
   "source": [
    "特征值与特征矩阵"
   ]
  },
  {
   "cell_type": "code",
   "execution_count": 34,
   "metadata": {},
   "outputs": [
    {
     "name": "stdout",
     "output_type": "stream",
     "text": [
      "特征值: {-8: 1, 1: 2}\n",
      "特征向量 [(-8, 1, [Matrix([\n",
      "[-1/2],\n",
      "[  -1],\n",
      "[   1]])]), (1, 2, [Matrix([\n",
      "[-2],\n",
      "[ 1],\n",
      "[ 0]]), Matrix([\n",
      "[2],\n",
      "[0],\n",
      "[1]])])]\n"
     ]
    }
   ],
   "source": [
    "a = sp.Matrix([[0, -2, 2], [-2, -3, 4], [2, 4, -3]])\n",
    "print('特征值:', a.eigenvals())\n",
    "print('特征向量', a.eigenvects())"
   ]
  },
  {
   "cell_type": "code",
   "execution_count": 4,
   "metadata": {},
   "outputs": [
    {
     "name": "stdout",
     "output_type": "stream",
     "text": [
      "(Matrix([\n",
      "[-1, -2, 2],\n",
      "[-2,  1, 0],\n",
      "[ 2,  0, 1]]), Matrix([\n",
      "[-8, 0, 0],\n",
      "[ 0, 1, 0],\n",
      "[ 0, 0, 1]]))\n"
     ]
    }
   ],
   "source": [
    "# 对角相似化   即求得A的可逆矩阵P， 使得PAP = D， D为对角矩阵\n",
    "\n",
    "a = sp.Matrix([[0, -2, 2], [-2, -3, 4], [2, 4, -3]])\n",
    "if a.is_diagonalizable(): \n",
    "    print(a.diagonalize()) # 分别得到P与A\n",
    "else: \n",
    "    print('a 不能对角相似化')\n"
   ]
  },
  {
   "cell_type": "markdown",
   "metadata": {},
   "source": [
    "# 线性代数问题的数值解\n",
    "矩阵乘法，矩阵的逆，矩阵分解, 特征值和特征向量等可以通过numpy解决线性代数相关计算\n",
    "调用numpy子模块: linalg\n",
    "\n",
    "## 重要函数说明:\n",
    "np.eye -> 生成单位矩阵\n",
    "\n",
    "np.ones \n",
    "\n",
    "np.zeros\n",
    "\n",
    "np.vander -> 范德蒙德矩阵\n",
    "\n",
    "np.diag -> 矩阵和一维数组相互转换\n",
    "\n",
    "np.dot\n",
    "\n",
    "np.inner -> 数组内积\n",
    "\n",
    "np.outer -> 向量外积\n",
    "\n",
    "np.trace -> 迹\n",
    "\n",
    "np.transpose\n",
    "\n",
    "\n",
    "\n",
    "det, eig(特征), eigvals, inv(逆), pinv(moore 伪逆), solve(解线性方程组的解), lstsq(计算最小二乘解), qr, svd(奇异值分解), norm(计算范数(模)), matrix_rank "
   ]
  },
  {
   "cell_type": "code",
   "execution_count": 6,
   "metadata": {},
   "outputs": [
    {
     "name": "stdout",
     "output_type": "stream",
     "text": [
      "3.7416573867739413\n",
      "32\n",
      "32\n",
      "[-3  6 -3]\n"
     ]
    }
   ],
   "source": [
    "import numpy.linalg as LA \n",
    "\n",
    "a = np.arange(1, 4)\n",
    "b = np.arange(4, 7)\n",
    "print(LA.norm(a))\n",
    "print(a.dot(b))\n",
    "print(np.inner(a, b)) # 这里与dot等价\n",
    "print(np.cross(a, b)) # 叉乘\n"
   ]
  },
  {
   "cell_type": "markdown",
   "metadata": {},
   "source": [
    "# 齐次线性方程的数值解\n",
    "使用scipy.linalg模块的 null_space 函数, 可以求基础解系\n"
   ]
  },
  {
   "cell_type": "code",
   "execution_count": 13,
   "metadata": {},
   "outputs": [
    {
     "data": {
      "text/plain": [
       "array([[ 0.79428706, -0.07832183],\n",
       "       [-0.19204896, -0.36561063],\n",
       "       [-0.52695834,  0.38844091],\n",
       "       [ 0.23353839,  0.84220438]])"
      ]
     },
     "execution_count": 13,
     "metadata": {},
     "output_type": "execute_result"
    }
   ],
   "source": [
    "import scipy.linalg as SL\n",
    "\n",
    "a = np.array([[1, -5, 2, -3], [5, 3, 6, -1], [2, 4, 2, 1]])\n",
    "SL.null_space(A=a)"
   ]
  },
  {
   "cell_type": "markdown",
   "metadata": {},
   "source": [
    "## 定理3.2\n",
    "无解的充要条件是: R(A) < R(A, b)\n",
    "有唯一解的充要条件是: R(A) == R(A, b) == n\n",
    "有无穷多解的充要条件是: R(A) == R(A, b) < n\n",
    "\n",
    "使用x = pinv(A).dot(b) 总是给出唯一解\n",
    "1. 当有无穷多解时, 给出最小范数解\n",
    "2. 无解时给出最小二乘解, 最小二乘解时方程两边误差和最小的解"
   ]
  },
  {
   "cell_type": "markdown",
   "metadata": {},
   "source": [
    "特征值与特征向量"
   ]
  },
  {
   "cell_type": "code",
   "execution_count": 14,
   "metadata": {},
   "outputs": [
    {
     "name": "stdout",
     "output_type": "stream",
     "text": [
      "特征值: [ 1. -8.  1.]\n",
      "特征向量:  [[ 0.94280904 -0.33333333 -0.2981424 ]\n",
      " [-0.23570226 -0.66666667  0.74535599]\n",
      " [ 0.23570226  0.66666667  0.59628479]]\n"
     ]
    }
   ],
   "source": [
    "a = np.array([[0, -2, 2], [-2, -3, 4], [2, 4, -3]])\n",
    "values, vectors = LA.eig(a)\n",
    "print('特征值:', values)\n",
    "print('特征向量: ', vectors)"
   ]
  },
  {
   "cell_type": "markdown",
   "metadata": {},
   "source": [
    "# 求超定线性方程组的最小二乘解\n",
    "建模中经常使用线性最小二乘法, 实际上就是求超定线性方程组的最小二乘解(未知数个数少, 方程个数多)\n",
    "这里使用`lstsq()`求解"
   ]
  },
  {
   "cell_type": "code",
   "execution_count": 40,
   "metadata": {},
   "outputs": [
    {
     "name": "stdout",
     "output_type": "stream",
     "text": [
      "0.9999999999999997 -0.9499999999999992\n"
     ]
    },
    {
     "data": {
      "image/png": "[encoded data removed]",
      "text/plain": [
       "<Figure size 640x480 with 1 Axes>"
      ]
     },
     "metadata": {},
     "output_type": "display_data"
    }
   ],
   "source": [
    "# 相当于拟合经验函数 y = mx + c\n",
    "\n",
    "import matplotlib.pyplot as plt\n",
    "\n",
    "x = np.arange(4)\n",
    "y = np.array([-1, 0.2, 0.9, 2.1])\n",
    "a = np.c_[x, np.ones_like(x)]\n",
    "m, c = LA.lstsq(a, y, rcond=None)[0]\n",
    "print(m, c)\n",
    "plt.rc('font', size=16)\n",
    "plt.plot(x, y, 'o', label='orig data', markersize=5)\n",
    "plt.plot(x, m*x + c, 'r', label='line')\n",
    "plt.rc('font', family='SimHei')\n",
    "plt.rc('axes', unicode_minus=False)\n",
    "plt.legend() # 添加图例\n",
    "plt.show()"
   ]
  },
  {
   "cell_type": "code",
   "execution_count": 43,
   "metadata": {},
   "outputs": [
    {
     "name": "stdout",
     "output_type": "stream",
     "text": [
      "[-0.30357143 27.125     ]\n"
     ]
    },
    {
     "data": {
      "image/png": "[encoded data removed]",
      "text/plain": [
       "<Figure size 640x480 with 1 Axes>"
      ]
     },
     "metadata": {},
     "output_type": "display_data"
    }
   ],
   "source": [
    "t = np.arange(8)\n",
    "y = np.array([27.0, 26.8, 26.5, 26.3, 26.1, 25.7, 25.3, 24.8])\n",
    "a = np.c_[t, np.ones_like(y)]\n",
    "# print(a)\n",
    "ab = LA.lstsq(a, y, rcond=None)[0]\n",
    "print(ab)\n",
    "plt.clf()\n",
    "plt.plot(t, y, 'o', label='orig data',markersize=5)\n",
    "plt.plot(t, a @ ab, 'r', label='fitted line')\n",
    "plt.legend()\n",
    "plt.show()\n"
   ]
  }
 ],
 "metadata": {
  "kernelspec": {
   "display_name": "yolov5",
   "language": "python",
   "name": "python3"
  },
  "language_info": {
   "codemirror_mode": {
    "name": "ipython",
    "version": 3
   },
   "file_extension": ".py",
   "mimetype": "text/x-python",
   "name": "python",
   "nbconvert_exporter": "python",
   "pygments_lexer": "ipython3",
   "version": "0.0.0"
  }
 },
 "nbformat": 4,
 "nbformat_minor": 2
}
